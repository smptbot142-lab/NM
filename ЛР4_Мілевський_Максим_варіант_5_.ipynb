{
  "nbformat": 4,
  "nbformat_minor": 0,
  "metadata": {
    "colab": {
      "provenance": [],
      "authorship_tag": "ABX9TyMM49O6/USrn9W0i3Wdt2Hz",
      "include_colab_link": true
    },
    "kernelspec": {
      "name": "python3",
      "display_name": "Python 3"
    },
    "language_info": {
      "name": "python"
    }
  },
  "cells": [
    {
      "cell_type": "markdown",
      "metadata": {
        "id": "view-in-github",
        "colab_type": "text"
      },
      "source": [
        "<a href=\"https://colab.research.google.com/github/smptbot142-lab/NM/blob/main/%D0%9B%D0%A04_%D0%9C%D1%96%D0%BB%D0%B5%D0%B2%D1%81%D1%8C%D0%BA%D0%B8%D0%B9_%D0%9C%D0%B0%D0%BA%D1%81%D0%B8%D0%BC_%D0%B2%D0%B0%D1%80%D1%96%D0%B0%D0%BD%D1%82_5_.ipynb\" target=\"_parent\"><img src=\"https://colab.research.google.com/assets/colab-badge.svg\" alt=\"Open In Colab\"/></a>"
      ]
    },
    {
      "cell_type": "markdown",
      "source": [
        "Я був присутній на парі"
      ],
      "metadata": {
        "id": "pN3WeW_7OA8F"
      }
    },
    {
      "cell_type": "markdown",
      "source": [
        "![image.png](data:image/png;base64,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)"
      ],
      "metadata": {
        "id": "4sGNCB6iUUd4"
      }
    },
    {
      "cell_type": "code",
      "source": [
        "import numpy as np\n",
        "\n",
        "numpy_version = np.__version__\n",
        "numpy_version"
      ],
      "metadata": {
        "colab": {
          "base_uri": "https://localhost:8080/",
          "height": 36
        },
        "id": "U0jrmRMgNqzN",
        "outputId": "dd3a2a6d-18bf-4f3f-de22-b066d19c67b3"
      },
      "execution_count": 14,
      "outputs": [
        {
          "output_type": "execute_result",
          "data": {
            "text/plain": [
              "'2.0.2'"
            ],
            "application/vnd.google.colaboratory.intrinsic+json": {
              "type": "string"
            }
          },
          "metadata": {},
          "execution_count": 14
        }
      ]
    },
    {
      "cell_type": "code",
      "source": [
        "import numpy as np\n",
        "a = np.array([\n",
        "    [14, 4, 6],\n",
        "    [5, -3, 2],\n",
        "    [10, -11, 5],\n",
        "])\n",
        "b = np.array([[30], [15], [36]])"
      ],
      "metadata": {
        "id": "31Vc63dsUfSK"
      },
      "execution_count": 29,
      "outputs": []
    },
    {
      "cell_type": "code",
      "source": [
        "#Матричний метод (1 спосіб)\n",
        "det_a = np.linalg.det(a)\n",
        "if det_a == 0:\n",
        "    print(\"Визначник дорівнює нулю - рішень немає\")\n",
        "else:\n",
        "  a_inv = np.linalg.inv(a)\n",
        "  print(f\"Обернена матриця до матриці A: \\r\\n {a_inv }\")\n",
        "  print(f\"Вектор рішення: \\r\\n {a_inv.dot(b)}\")"
      ],
      "metadata": {
        "colab": {
          "base_uri": "https://localhost:8080/"
        },
        "id": "XIod_aFCVYE_",
        "outputId": "088964c5-5cdd-4a82-dae1-f7c27863c641"
      },
      "execution_count": 30,
      "outputs": [
        {
          "output_type": "stream",
          "name": "stdout",
          "text": [
            "Обернена матриця до матриці A: \r\n",
            " [[-0.09722222  1.19444444 -0.36111111]\n",
            " [ 0.06944444 -0.13888889 -0.02777778]\n",
            " [ 0.34722222 -2.69444444  0.86111111]]\n",
            "Вектор рішення: \r\n",
            " [[ 2.]\n",
            " [-1.]\n",
            " [ 1.]]\n"
          ]
        }
      ]
    },
    {
      "cell_type": "code",
      "source": [
        "#метод Крамера (1 спосіб)\n",
        "det_a = np.linalg.det(a)\n",
        "\n",
        "if det_a == 0:\n",
        "    print(\"Визначник дорівнює нулю — система не має єдиного розв’язку.\")\n",
        "else:\n",
        "    def replace_column(matrix, column_index, new_column):\n",
        "        new_matrix = np.copy(matrix)\n",
        "        new_matrix[:, column_index] = new_column\n",
        "        return new_matrix\n",
        "\n",
        "    # Обчислюємо Δx, Δy, Δz\n",
        "    delta_x = np.linalg.det(replace_column(a, 0, b.T))\n",
        "    delta_y = np.linalg.det(replace_column(a, 1, b.T))\n",
        "    delta_z = np.linalg.det(replace_column(a, 2, b.T))\n",
        "\n",
        "    # Обчислюємо x, y, z\n",
        "    print('x =', delta_x / det_a)\n",
        "    print('y =', delta_y / det_a)\n",
        "    print('z =', delta_z / det_a)"
      ],
      "metadata": {
        "colab": {
          "base_uri": "https://localhost:8080/"
        },
        "id": "g-c58skRVdLT",
        "outputId": "5366c022-555e-4d1e-d640-52e0cee31093"
      },
      "execution_count": 31,
      "outputs": [
        {
          "output_type": "stream",
          "name": "stdout",
          "text": [
            "x = 2.0000000000000018\n",
            "y = -1.0\n",
            "z = 0.9999999999999972\n"
          ]
        }
      ]
    },
    {
      "cell_type": "code",
      "source": [
        "#вирішення системи методом Гауса\n",
        "def solve_gausse(a, b, verbose=False):\n",
        "    det = np.linalg.det(a)\n",
        "    if verbose: print(f\"Визначник матриці A: {round(det)}\")\n",
        "    if det == 0:\n",
        "        print(\"Визначник дорівнює нулю - рішень немає\")\n",
        "        return None\n",
        "    # Reading number of unknowns\n",
        "    n = len(b)\n",
        "    m = np.concatenate([a, b], axis=1, dtype=float)\n",
        "\n",
        "    # Applying Gauss-Jordan Elimination\n",
        "    for i in range(n):\n",
        "\n",
        "        # Swap rows to avoid division by 0\n",
        "        if m[i, i] == 0:\n",
        "            for k in range(i+1, n):\n",
        "                if m[k, k] != 0:\n",
        "                    m[[i, k], :] = m[[k, i], :]\n",
        "                    break\n",
        "\n",
        "\n",
        "        if m[i, i] != 1:\n",
        "            m[i, :] *= 1/m[i, i]\n",
        "\n",
        "        for j in range(n):\n",
        "            if i != j:\n",
        "                ratio = m[j][i]/m[i][i]\n",
        "\n",
        "                m[j, :] = m[j, :] - ratio * m[i, :]\n",
        "\n",
        "    return m[:, [-1]]\n",
        "\n",
        "print(f\"Вектор рішення: \\r\\n {solve_gausse(a, b)}\")"
      ],
      "metadata": {
        "colab": {
          "base_uri": "https://localhost:8080/"
        },
        "id": "TfJE9goCVkDk",
        "outputId": "b2e2850e-28bb-4a15-9fcc-1d947661381f"
      },
      "execution_count": 32,
      "outputs": [
        {
          "output_type": "stream",
          "name": "stdout",
          "text": [
            "Вектор рішення: \r\n",
            " [[ 2.]\n",
            " [-1.]\n",
            " [ 1.]]\n"
          ]
        }
      ]
    },
    {
      "cell_type": "code",
      "source": [
        "x = np.linalg.solve(a, b)\n",
        "\n",
        "print(x)"
      ],
      "metadata": {
        "colab": {
          "base_uri": "https://localhost:8080/"
        },
        "id": "kbKkcPvJWPiC",
        "outputId": "62ebbbcd-f127-4faa-8490-7f4830bd4a27"
      },
      "execution_count": 33,
      "outputs": [
        {
          "output_type": "stream",
          "name": "stdout",
          "text": [
            "[[ 2.]\n",
            " [-1.]\n",
            " [ 1.]]\n"
          ]
        }
      ]
    },
    {
      "cell_type": "code",
      "source": [
        "matrix = np.random.randint(1, 6, size=(3, 3))\n",
        "\n",
        "matrix"
      ],
      "metadata": {
        "colab": {
          "base_uri": "https://localhost:8080/"
        },
        "id": "R7UsGdbTN1pJ",
        "outputId": "fc71b62b-a42e-4519-fbbb-5d283d1d4d83"
      },
      "execution_count": 2,
      "outputs": [
        {
          "output_type": "execute_result",
          "data": {
            "text/plain": [
              "array([[4, 5, 5],\n",
              "       [2, 1, 1],\n",
              "       [2, 5, 2]])"
            ]
          },
          "metadata": {},
          "execution_count": 2
        }
      ]
    },
    {
      "cell_type": "code",
      "source": [
        "det = np.linalg.det(matrix)\n",
        "det"
      ],
      "metadata": {
        "colab": {
          "base_uri": "https://localhost:8080/"
        },
        "id": "C4NGUmEwOQOa",
        "outputId": "b032d999-b668-41d4-b5a2-4a68faeae6fd"
      },
      "execution_count": 3,
      "outputs": [
        {
          "output_type": "execute_result",
          "data": {
            "text/plain": [
              "np.float64(18.000000000000004)"
            ]
          },
          "metadata": {},
          "execution_count": 3
        }
      ]
    },
    {
      "cell_type": "code",
      "source": [
        "product = np.prod(matrix)\n",
        "product"
      ],
      "metadata": {
        "colab": {
          "base_uri": "https://localhost:8080/"
        },
        "id": "0qDbWk6VOZLK",
        "outputId": "2fffac0d-8d1b-44cb-ce76-26f39fcb9678"
      },
      "execution_count": 6,
      "outputs": [
        {
          "output_type": "execute_result",
          "data": {
            "text/plain": [
              "np.int64(4000)"
            ]
          },
          "metadata": {},
          "execution_count": 6
        }
      ]
    },
    {
      "cell_type": "code",
      "source": [
        "prod1 = np.prod(matrix[0])\n",
        "prod2 = np.prod(matrix[1])\n",
        "prod3 = np.prod(matrix[2])\n",
        "prod1*prod2*prod3"
      ],
      "metadata": {
        "colab": {
          "base_uri": "https://localhost:8080/"
        },
        "id": "nTdcG_1bOuSC",
        "outputId": "3e37abba-7dfe-45a3-f216-1ede7addf718"
      },
      "execution_count": 7,
      "outputs": [
        {
          "output_type": "execute_result",
          "data": {
            "text/plain": [
              "np.int64(4000)"
            ]
          },
          "metadata": {},
          "execution_count": 7
        }
      ]
    },
    {
      "cell_type": "code",
      "source": [
        "np.sum(matrix)"
      ],
      "metadata": {
        "colab": {
          "base_uri": "https://localhost:8080/"
        },
        "id": "OQtqa3USPI-5",
        "outputId": "4e4ce72d-3f91-4a82-d98b-766408cff402"
      },
      "execution_count": 9,
      "outputs": [
        {
          "output_type": "execute_result",
          "data": {
            "text/plain": [
              "np.int64(27)"
            ]
          },
          "metadata": {},
          "execution_count": 9
        }
      ]
    },
    {
      "cell_type": "code",
      "source": [
        "np.max(matrix)"
      ],
      "metadata": {
        "colab": {
          "base_uri": "https://localhost:8080/"
        },
        "id": "9gXDEP_YPPLJ",
        "outputId": "7aec65d6-791c-4d58-dc14-875de3b7e1ab"
      },
      "execution_count": 10,
      "outputs": [
        {
          "output_type": "execute_result",
          "data": {
            "text/plain": [
              "np.int64(5)"
            ]
          },
          "metadata": {},
          "execution_count": 10
        }
      ]
    },
    {
      "cell_type": "code",
      "source": [
        "np.min(matrix)"
      ],
      "metadata": {
        "colab": {
          "base_uri": "https://localhost:8080/"
        },
        "id": "X-3NVeqmPnxm",
        "outputId": "dbbdd70f-3e6f-4685-c231-14255fd120c4"
      },
      "execution_count": 11,
      "outputs": [
        {
          "output_type": "execute_result",
          "data": {
            "text/plain": [
              "np.int64(1)"
            ]
          },
          "metadata": {},
          "execution_count": 11
        }
      ]
    },
    {
      "cell_type": "code",
      "source": [
        "np.mean(matrix)"
      ],
      "metadata": {
        "colab": {
          "base_uri": "https://localhost:8080/"
        },
        "id": "HvuGRPBFPpZk",
        "outputId": "febf34f6-8710-4dea-96b7-6049590e98b3"
      },
      "execution_count": 15,
      "outputs": [
        {
          "output_type": "execute_result",
          "data": {
            "text/plain": [
              "np.float64(3.0)"
            ]
          },
          "metadata": {},
          "execution_count": 15
        }
      ]
    },
    {
      "cell_type": "code",
      "source": [
        "np.sqrt(matrix)"
      ],
      "metadata": {
        "colab": {
          "base_uri": "https://localhost:8080/"
        },
        "id": "OiFrsHqGQdC4",
        "outputId": "fce672e1-cb12-44ab-ac71-7935956220c7"
      },
      "execution_count": 16,
      "outputs": [
        {
          "output_type": "execute_result",
          "data": {
            "text/plain": [
              "array([[2.        , 2.23606798, 2.23606798],\n",
              "       [1.41421356, 1.        , 1.        ],\n",
              "       [1.41421356, 2.23606798, 1.41421356]])"
            ]
          },
          "metadata": {},
          "execution_count": 16
        }
      ]
    },
    {
      "cell_type": "code",
      "source": [
        "np.sum(matrix, axis=1).reshape(-1, 1)"
      ],
      "metadata": {
        "colab": {
          "base_uri": "https://localhost:8080/"
        },
        "id": "a7pTfUozQh0Z",
        "outputId": "660ede14-33fe-47bf-8864-403b35f92f40"
      },
      "execution_count": 17,
      "outputs": [
        {
          "output_type": "execute_result",
          "data": {
            "text/plain": [
              "array([[14],\n",
              "       [ 4],\n",
              "       [ 9]])"
            ]
          },
          "metadata": {},
          "execution_count": 17
        }
      ]
    },
    {
      "cell_type": "code",
      "source": [
        "matrix.sum(axis=1).reshape(-1, 1)"
      ],
      "metadata": {
        "colab": {
          "base_uri": "https://localhost:8080/"
        },
        "id": "9Y3AGMfERMLR",
        "outputId": "bc729282-1235-4ad7-d151-7b2a21b0be06"
      },
      "execution_count": 18,
      "outputs": [
        {
          "output_type": "execute_result",
          "data": {
            "text/plain": [
              "array([[14],\n",
              "       [ 4],\n",
              "       [ 9]])"
            ]
          },
          "metadata": {},
          "execution_count": 18
        }
      ]
    },
    {
      "cell_type": "code",
      "source": [
        "x = np.matrix([[1, 2], [4, 3]])\n",
        "x"
      ],
      "metadata": {
        "colab": {
          "base_uri": "https://localhost:8080/"
        },
        "id": "lWqT5QKzSf7B",
        "outputId": "f21957ad-fa11-407f-f1f9-b12064e2e66f"
      },
      "execution_count": 21,
      "outputs": [
        {
          "output_type": "execute_result",
          "data": {
            "text/plain": [
              "matrix([[1, 2],\n",
              "        [4, 3]])"
            ]
          },
          "metadata": {},
          "execution_count": 21
        }
      ]
    },
    {
      "cell_type": "code",
      "source": [
        "x.sum(axis=1)"
      ],
      "metadata": {
        "colab": {
          "base_uri": "https://localhost:8080/"
        },
        "id": "55pKrMtkS2Ov",
        "outputId": "50e730b2-172c-4f8b-a1b7-bfb81d23f9d9"
      },
      "execution_count": 22,
      "outputs": [
        {
          "output_type": "execute_result",
          "data": {
            "text/plain": [
              "matrix([[3],\n",
              "        [7]])"
            ]
          },
          "metadata": {},
          "execution_count": 22
        }
      ]
    },
    {
      "cell_type": "code",
      "source": [
        "x.sum(axis=1, dtype='float')"
      ],
      "metadata": {
        "colab": {
          "base_uri": "https://localhost:8080/"
        },
        "id": "AsfdpDmbS-N_",
        "outputId": "3aa95d6c-93d8-4739-9ab1-e54303789480"
      },
      "execution_count": 23,
      "outputs": [
        {
          "output_type": "execute_result",
          "data": {
            "text/plain": [
              "matrix([[3.],\n",
              "        [7.]])"
            ]
          },
          "metadata": {},
          "execution_count": 23
        }
      ]
    },
    {
      "cell_type": "code",
      "source": [
        "vector = np.random.randint(0, 10, size=25)\n",
        "vector"
      ],
      "metadata": {
        "colab": {
          "base_uri": "https://localhost:8080/"
        },
        "id": "AP7RXbK4TLuT",
        "outputId": "ec8f719e-e460-414e-d927-8b6311ef676f"
      },
      "execution_count": 25,
      "outputs": [
        {
          "output_type": "execute_result",
          "data": {
            "text/plain": [
              "array([4, 3, 6, 9, 2, 2, 6, 9, 1, 1, 1, 3, 9, 9, 9, 5, 0, 3, 2, 9, 7, 2,\n",
              "       9, 3, 6])"
            ]
          },
          "metadata": {},
          "execution_count": 25
        }
      ]
    },
    {
      "cell_type": "code",
      "source": [
        "sorted_vector = np.sort(vector)[::-1]\n",
        "sorted_vector"
      ],
      "metadata": {
        "colab": {
          "base_uri": "https://localhost:8080/"
        },
        "id": "XRq07qKaTUrH",
        "outputId": "96147e73-87d0-48cc-cf44-c12e05cca0b5"
      },
      "execution_count": 27,
      "outputs": [
        {
          "output_type": "execute_result",
          "data": {
            "text/plain": [
              "array([9, 9, 9, 9, 9, 9, 9, 7, 6, 6, 6, 5, 4, 3, 3, 3, 3, 2, 2, 2, 2, 1,\n",
              "       1, 1, 0])"
            ]
          },
          "metadata": {},
          "execution_count": 27
        }
      ]
    },
    {
      "cell_type": "code",
      "source": [],
      "metadata": {
        "id": "FYL6cMywTan4"
      },
      "execution_count": null,
      "outputs": []
    }
  ]
}